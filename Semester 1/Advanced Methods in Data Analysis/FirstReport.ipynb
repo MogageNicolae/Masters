{
 "cells": [
  {
   "metadata": {},
   "cell_type": "markdown",
   "source": "Imports",
   "id": "2ea1a532a33d3ddb"
  },
  {
   "cell_type": "code",
   "id": "initial_id",
   "metadata": {
    "collapsed": true,
    "ExecuteTime": {
     "end_time": "2024-11-14T14:17:11.680663Z",
     "start_time": "2024-11-14T14:17:10.183846Z"
    }
   },
   "source": [
    "import torch\n",
    "import torch.nn as nn\n",
    "import torch.optim as optim\n",
    "from sklearn.metrics import mean_absolute_error\n",
    "from torch.nn import Module, LSTM, Linear\n",
    "from torch.utils.data import Dataset, DataLoader\n",
    "from sklearn.model_selection import train_test_split\n",
    "from transformers import BertTokenizer\n",
    "import pandas as pd\n",
    "import glob"
   ],
   "outputs": [
    {
     "name": "stderr",
     "output_type": "stream",
     "text": [
      "/Users/nicolae.mogage/Uni/Masters/Semester 1/Advanced Methods in Data Analysis/venv/lib/python3.12/site-packages/tqdm/auto.py:21: TqdmWarning: IProgress not found. Please update jupyter and ipywidgets. See https://ipywidgets.readthedocs.io/en/stable/user_install.html\n",
      "  from .autonotebook import tqdm as notebook_tqdm\n"
     ]
    }
   ],
   "execution_count": 1
  },
  {
   "metadata": {},
   "cell_type": "markdown",
   "source": "Model creation",
   "id": "5c37b63d22cbea15"
  },
  {
   "metadata": {
    "ExecuteTime": {
     "end_time": "2024-11-14T14:17:13.314529Z",
     "start_time": "2024-11-14T14:17:13.310826Z"
    }
   },
   "cell_type": "code",
   "source": [
    "class Net(Module):\n",
    "    def __init__(self, input_size, hidden_size, num_layers, num_classes):\n",
    "        super(Net, self).__init__()\n",
    "        self.lstm = LSTM(input_size, hidden_size, num_layers, batch_first=True, bidirectional=True)\n",
    "        self.fc = Linear(hidden_size * 2, num_classes)\n",
    "        \n",
    "        \n",
    "    def forward(self, x):\n",
    "        out, _ = self.lstm(x)\n",
    "        out = self.fc(out[:, -1, :])\n",
    "        return out"
   ],
   "id": "cec1914f42c5c398",
   "outputs": [],
   "execution_count": 2
  },
  {
   "metadata": {},
   "cell_type": "markdown",
   "source": "Sentiment Analysis Dataset and declaration",
   "id": "23852c5c13babbbb"
  },
  {
   "metadata": {
    "ExecuteTime": {
     "end_time": "2024-11-11T10:04:03.858379Z",
     "start_time": "2024-11-11T10:04:03.854268Z"
    }
   },
   "cell_type": "code",
   "source": [
    "class SentimentAnalysisDataset(Dataset):\n",
    "    def __init__(self, dataframe, tokenizer, max_length=128):\n",
    "        self.dataframe = dataframe\n",
    "        self.tokenizer = tokenizer\n",
    "        self.max_length = max_length\n",
    "\n",
    "    def __len__(self):\n",
    "        return len(self.dataframe)\n",
    "\n",
    "    def __getitem__(self, idx):\n",
    "        label = self.dataframe.iloc[idx, 0] \n",
    "        message = self.dataframe.iloc[idx, 1]  \n",
    "\n",
    "        encoding = self.tokenizer(\n",
    "            message,\n",
    "            add_special_tokens=True,\n",
    "            max_length=self.max_length,\n",
    "            padding='max_length',\n",
    "            truncation=True,\n",
    "            return_tensors='pt'\n",
    "        )\n",
    "\n",
    "        input_ids = encoding['input_ids'].squeeze().float()\n",
    "\n",
    "        return input_ids, torch.tensor(label, dtype=torch.long)"
   ],
   "id": "65e799e75101b3de",
   "outputs": [],
   "execution_count": 58
  },
  {
   "metadata": {
    "ExecuteTime": {
     "end_time": "2024-11-08T13:49:59.988979Z",
     "start_time": "2024-11-08T13:49:58.835597Z"
    }
   },
   "cell_type": "code",
   "outputs": [
    {
     "name": "stdout",
     "output_type": "stream",
     "text": [
      "Training data size: 120000\n",
      "Testing data size: 80000\n"
     ]
    }
   ],
   "execution_count": 68,
   "source": [
    "sentiment_analysis_csv = pd.read_csv('FirstReportData/sentiment_analysis.csv', header=None, encoding='ISO-8859-1')\n",
    "\n",
    "sentiment_analysis_csv = sentiment_analysis_csv[:200000]\n",
    "\n",
    "train_data, test_data = train_test_split(sentiment_analysis_csv, test_size=0.4, random_state=42)\n",
    "\n",
    "print(\"Training data size:\", len(train_data))\n",
    "print(\"Testing data size:\", len(test_data))\n",
    "\n",
    "tokenizer = BertTokenizer.from_pretrained('bert-base-uncased')\n",
    "train_dataset = SentimentAnalysisDataset(train_data, tokenizer, max_length=128)\n",
    "test_dataset = SentimentAnalysisDataset(test_data, tokenizer, max_length=128)"
   ],
   "id": "ff439a8e6f87820d"
  },
  {
   "metadata": {
    "ExecuteTime": {
     "end_time": "2024-11-14T13:28:03.366514Z",
     "start_time": "2024-11-14T13:28:03.177274Z"
    }
   },
   "cell_type": "code",
   "source": [
    "device = torch.device(\"mps\")\n",
    "\n",
    "input_size = 128\n",
    "hidden_size = 64\n",
    "num_layers = 2\n",
    "num_classes = 2\n",
    "\n",
    "model = Net(input_size=input_size, hidden_size=hidden_size, num_layers=num_layers, num_classes=num_classes).to(device)\n",
    "\n",
    "criterion = nn.CrossEntropyLoss()\n",
    "optimizer = optim.Adam(model.parameters(), lr=0.0001)\n",
    "\n",
    "tokenizer = BertTokenizer.from_pretrained('bert-base-uncased')\n",
    "\n",
    "train_dataloader = DataLoader(train_dataset, batch_size=32, shuffle=True)\n",
    "test_dataloader = DataLoader(test_dataset, batch_size=32, shuffle=False)"
   ],
   "id": "227fc7019001fd62",
   "outputs": [],
   "execution_count": 24
  },
  {
   "metadata": {},
   "cell_type": "markdown",
   "source": "Weather Forecast Dataset and declaration",
   "id": "49f3914f76a31586"
  },
  {
   "metadata": {
    "ExecuteTime": {
     "end_time": "2024-11-14T14:17:17.967002Z",
     "start_time": "2024-11-14T14:17:17.962816Z"
    }
   },
   "cell_type": "code",
   "source": [
    "class WeatherForecastDataset(Dataset):\n",
    "    def __init__(self):\n",
    "        data = pd.read_csv('FirstReportData/weather_forecast_cleaned.csv')\n",
    "        data = data.dropna()\n",
    "        temperatures = data[\"T (degC)\"].values.reshape(-1, 1)\n",
    "        features = data.drop(columns=[\"T (degC)\"]).values\n",
    "        \n",
    "        self.sequences = []\n",
    "        self.targets = []\n",
    "        \n",
    "        for i in range(len(features) - 5):\n",
    "            self.sequences.append(features[i:i + 5])\n",
    "            self.targets.append(temperatures[i + 5])\n",
    "            \n",
    "        self.sequences = torch.tensor(self.sequences, dtype=torch.float32)\n",
    "        self.targets = torch.tensor(self.targets, dtype=torch.float32)\n",
    "\n",
    "    def __len__(self):\n",
    "        return len(self.sequences)\n",
    "\n",
    "    def __getitem__(self, idx):\n",
    "        return self.sequences[idx], self.targets[idx]\n",
    "    "
   ],
   "id": "3b17ad3aad7b74d0",
   "outputs": [],
   "execution_count": 3
  },
  {
   "metadata": {
    "ExecuteTime": {
     "end_time": "2024-11-14T14:17:22.606405Z",
     "start_time": "2024-11-14T14:17:18.426492Z"
    }
   },
   "cell_type": "code",
   "source": [
    "weather_forecast_csv = pd.read_csv('FirstReportData/weather_forecast_cleaned.csv')\n",
    "\n",
    "weather_forecast_dataset = WeatherForecastDataset()\n",
    "\n",
    "train_dataset, test_dataset = train_test_split(weather_forecast_dataset, test_size=0.2, random_state=42)\n",
    "\n",
    "print(\"Training data size:\", len(train_dataset))\n",
    "print(\"Testing data size:\", len(test_dataset))"
   ],
   "id": "1bd0b29f22f9f7e",
   "outputs": [
    {
     "name": "stderr",
     "output_type": "stream",
     "text": [
      "/var/folders/gg/xybng_gj2rz3ltl94z9r_c59xzqsfn/T/ipykernel_89431/1633110708.py:15: UserWarning: Creating a tensor from a list of numpy.ndarrays is extremely slow. Please consider converting the list to a single numpy.ndarray with numpy.array() before converting to a tensor. (Triggered internally at /Users/runner/work/pytorch/pytorch/pytorch/torch/csrc/utils/tensor_new.cpp:281.)\n",
      "  self.sequences = torch.tensor(self.sequences, dtype=torch.float32)\n"
     ]
    },
    {
     "name": "stdout",
     "output_type": "stream",
     "text": [
      "Training data size: 336436\n",
      "Testing data size: 84110\n"
     ]
    }
   ],
   "execution_count": 4
  },
  {
   "metadata": {
    "ExecuteTime": {
     "end_time": "2024-11-14T14:17:24.249787Z",
     "start_time": "2024-11-14T14:17:23.738586Z"
    }
   },
   "cell_type": "code",
   "source": [
    "device = torch.device(\"mps\")\n",
    "\n",
    "input_size = 11\n",
    "hidden_size = 32\n",
    "num_layers = 2\n",
    "num_classes = 1\n",
    "\n",
    "model = Net(input_size=input_size, hidden_size=hidden_size, num_layers=num_layers, num_classes=num_classes).to(device)\n",
    "\n",
    "criterion = nn.MSELoss()\n",
    "optimizer = optim.Adam(model.parameters(), lr=0.0001)\n",
    "\n",
    "train_dataloader = DataLoader(train_dataset, batch_size=32, shuffle=True)\n",
    "test_dataloader = DataLoader(test_dataset, batch_size=32, shuffle=False)"
   ],
   "id": "38dcaec8416d1ff9",
   "outputs": [],
   "execution_count": 5
  },
  {
   "metadata": {},
   "cell_type": "markdown",
   "source": "Crypto Currency Dataset and declaration",
   "id": "c4fd7e06bc2598f3"
  },
  {
   "metadata": {
    "ExecuteTime": {
     "end_time": "2024-11-14T14:22:25.761875Z",
     "start_time": "2024-11-14T14:22:25.758443Z"
    }
   },
   "cell_type": "code",
   "source": [
    "class CryptoDataset(Dataset):\n",
    "    def __init__(self, data_file, sequence_length=3):\n",
    "        data = pd.read_csv(data_file) \n",
    "        prices = data['Close'].values.reshape(-1, 1)\n",
    "        features = data.drop(columns=['Date', 'Close', 'Currency']).values\n",
    "        \n",
    "        # self.scaler = MinMaxScaler(feature_range=(0, 1))\n",
    "        # normalized_prices = self.scaler.fit_transform(prices)\n",
    "\n",
    "        self.sequences = []\n",
    "        self.targets = []\n",
    "        for i in range(len(prices) - sequence_length):\n",
    "            self.sequences.append(features[i:i + sequence_length])\n",
    "            self.targets.append(prices[i + sequence_length])\n",
    "            \n",
    "        self.sequences = torch.tensor(self.sequences, dtype = torch.float32)\n",
    "        self.targets = torch.tensor(self.targets, dtype = torch.float32)\n",
    "\n",
    "    def __len__(self):\n",
    "        return len(self.sequences)\n",
    "\n",
    "    def __getitem__(self, idx):\n",
    "        return self.sequences[idx], self.targets[idx]"
   ],
   "id": "ea3a088c6da6b5f1",
   "outputs": [],
   "execution_count": 7
  },
  {
   "metadata": {
    "ExecuteTime": {
     "end_time": "2024-11-14T14:22:26.521550Z",
     "start_time": "2024-11-14T14:22:26.492210Z"
    }
   },
   "cell_type": "code",
   "source": [
    "crypto = CryptoDataset('FirstReportData/CryptoCurrencies/Binance USD.csv')\n",
    "train_data, test_data = train_test_split(crypto, test_size=0.2, random_state=42)\n",
    "device = torch.device(\"mps\")\n",
    "\n",
    "input_size = 4\n",
    "hidden_size = 32\n",
    "num_layers = 2\n",
    "num_classes = 1\n",
    "\n",
    "model = Net(input_size=input_size, hidden_size=hidden_size, num_layers=num_layers, num_classes=num_classes).to(device)\n",
    "\n",
    "criterion = nn.MSELoss()\n",
    "optimizer = optim.Adam(model.parameters(), lr=0.0001)\n",
    "\n",
    "train_dataloader = DataLoader(train_data, batch_size=32, shuffle=True)\n",
    "test_dataloader = DataLoader(test_data, batch_size=32, shuffle=False)"
   ],
   "id": "a04672df5c4b29a9",
   "outputs": [],
   "execution_count": 8
  },
  {
   "metadata": {},
   "cell_type": "markdown",
   "source": "Training and evaluation functions",
   "id": "a690da7553d58a99"
  },
  {
   "metadata": {
    "ExecuteTime": {
     "end_time": "2024-11-14T14:19:46.618226Z",
     "start_time": "2024-11-14T14:17:27.649018Z"
    }
   },
   "cell_type": "code",
   "source": [
    "def train(model, dataloader, criterion, optimizer):\n",
    "    model.train()\n",
    "    total_loss = 0\n",
    "    \n",
    "    for inputs, labels in dataloader:\n",
    "        inputs = inputs.to(device)\n",
    "        labels = labels.to(device)\n",
    "        \n",
    "        outputs = model(inputs)\n",
    "            \n",
    "        # if len(outputs.shape) == 2:\n",
    "        #     print(len(labels.shape))\n",
    "        #     outputs = outputs.squeeze()\n",
    "        \n",
    "        # outputs = outputs.squeeze()\n",
    "        loss = criterion(outputs, labels)\n",
    "\n",
    "        optimizer.zero_grad()\n",
    "        loss.backward()\n",
    "        optimizer.step()\n",
    "\n",
    "        total_loss += loss.item()\n",
    "    return total_loss / len(dataloader)\n",
    "\n",
    "\n",
    "def evaluate(model, dataloader, criterion):\n",
    "    model.eval()\n",
    "    total_loss = 0\n",
    "    total_r2_score = 0\n",
    "    correct = 0\n",
    "    with torch.no_grad():\n",
    "        for inputs, labels in dataloader:\n",
    "            inputs = inputs.to(device)\n",
    "            labels = labels.to(device)\n",
    "            \n",
    "            outputs = model(inputs)\n",
    "\n",
    "            # if len(outputs.shape) == 2:\n",
    "            #     print(len(labels.shape))\n",
    "            #     outputs = outputs.squeeze()\n",
    "            # outputs = outputs.squeeze()\n",
    "            loss = criterion(outputs, labels)\n",
    "            r2 = mean_absolute_error(outputs.cpu(), labels.cpu())\n",
    "            \n",
    "            # correct += (outputs == labels).sum().item()\n",
    "            total_r2_score += r2\n",
    "            total_loss += loss.item()\n",
    "                \n",
    "            # _, predicted = torch.max(outputs, 1)\n",
    "            # correct += (predicted == labels).sum().item()\n",
    "            # total_loss += loss.item()\n",
    "\n",
    "    avg_loss = total_loss / len(dataloader)\n",
    "    avg_r2_score = total_r2_score / len(dataloader)\n",
    "    # accuracy = correct / len(dataloader.dataset)\n",
    "    # return avg_loss, accuracy\n",
    "    return avg_loss, avg_r2_score\n",
    "\n",
    " \n",
    "num_epochs = 5\n",
    "for epoch in range(num_epochs):\n",
    "    train_loss = train(model, train_dataloader, criterion, optimizer)\n",
    "    test_loss, test_accuracy = evaluate(model, test_dataloader, criterion)\n",
    "\n",
    "    print(\n",
    "        f'Epoch [{epoch + 1}/{num_epochs}], Train Loss: {train_loss:.4f}, Test Loss: {test_loss:.4f}, Test Accuracy: {test_accuracy:.4f}')"
   ],
   "id": "9ded69b0151ed083",
   "outputs": [
    {
     "name": "stdout",
     "output_type": "stream",
     "text": [
      "Epoch [1/5], Train Loss: 19.8741, Test Loss: 0.9255, Test Accuracy: 0.6449\n",
      "Epoch [2/5], Train Loss: 0.5391, Test Loss: 0.3245, Test Accuracy: 0.4082\n"
     ]
    },
    {
     "ename": "KeyboardInterrupt",
     "evalue": "",
     "output_type": "error",
     "traceback": [
      "\u001B[0;31m---------------------------------------------------------------------------\u001B[0m",
      "\u001B[0;31mKeyboardInterrupt\u001B[0m                         Traceback (most recent call last)",
      "Cell \u001B[0;32mIn[6], line 62\u001B[0m\n\u001B[1;32m     60\u001B[0m num_epochs \u001B[38;5;241m=\u001B[39m \u001B[38;5;241m5\u001B[39m\n\u001B[1;32m     61\u001B[0m \u001B[38;5;28;01mfor\u001B[39;00m epoch \u001B[38;5;129;01min\u001B[39;00m \u001B[38;5;28mrange\u001B[39m(num_epochs):\n\u001B[0;32m---> 62\u001B[0m     train_loss \u001B[38;5;241m=\u001B[39m \u001B[43mtrain\u001B[49m\u001B[43m(\u001B[49m\u001B[43mmodel\u001B[49m\u001B[43m,\u001B[49m\u001B[43m \u001B[49m\u001B[43mtrain_dataloader\u001B[49m\u001B[43m,\u001B[49m\u001B[43m \u001B[49m\u001B[43mcriterion\u001B[49m\u001B[43m,\u001B[49m\u001B[43m \u001B[49m\u001B[43moptimizer\u001B[49m\u001B[43m)\u001B[49m\n\u001B[1;32m     63\u001B[0m     test_loss, test_accuracy \u001B[38;5;241m=\u001B[39m evaluate(model, test_dataloader, criterion)\n\u001B[1;32m     65\u001B[0m     \u001B[38;5;28mprint\u001B[39m(\n\u001B[1;32m     66\u001B[0m         \u001B[38;5;124mf\u001B[39m\u001B[38;5;124m'\u001B[39m\u001B[38;5;124mEpoch [\u001B[39m\u001B[38;5;132;01m{\u001B[39;00mepoch\u001B[38;5;250m \u001B[39m\u001B[38;5;241m+\u001B[39m\u001B[38;5;250m \u001B[39m\u001B[38;5;241m1\u001B[39m\u001B[38;5;132;01m}\u001B[39;00m\u001B[38;5;124m/\u001B[39m\u001B[38;5;132;01m{\u001B[39;00mnum_epochs\u001B[38;5;132;01m}\u001B[39;00m\u001B[38;5;124m], Train Loss: \u001B[39m\u001B[38;5;132;01m{\u001B[39;00mtrain_loss\u001B[38;5;132;01m:\u001B[39;00m\u001B[38;5;124m.4f\u001B[39m\u001B[38;5;132;01m}\u001B[39;00m\u001B[38;5;124m, Test Loss: \u001B[39m\u001B[38;5;132;01m{\u001B[39;00mtest_loss\u001B[38;5;132;01m:\u001B[39;00m\u001B[38;5;124m.4f\u001B[39m\u001B[38;5;132;01m}\u001B[39;00m\u001B[38;5;124m, Test Accuracy: \u001B[39m\u001B[38;5;132;01m{\u001B[39;00mtest_accuracy\u001B[38;5;132;01m:\u001B[39;00m\u001B[38;5;124m.4f\u001B[39m\u001B[38;5;132;01m}\u001B[39;00m\u001B[38;5;124m'\u001B[39m)\n",
      "Cell \u001B[0;32mIn[6], line 22\u001B[0m, in \u001B[0;36mtrain\u001B[0;34m(model, dataloader, criterion, optimizer)\u001B[0m\n\u001B[1;32m     19\u001B[0m     loss\u001B[38;5;241m.\u001B[39mbackward()\n\u001B[1;32m     20\u001B[0m     optimizer\u001B[38;5;241m.\u001B[39mstep()\n\u001B[0;32m---> 22\u001B[0m     total_loss \u001B[38;5;241m+\u001B[39m\u001B[38;5;241m=\u001B[39m \u001B[43mloss\u001B[49m\u001B[38;5;241;43m.\u001B[39;49m\u001B[43mitem\u001B[49m\u001B[43m(\u001B[49m\u001B[43m)\u001B[49m\n\u001B[1;32m     23\u001B[0m \u001B[38;5;28;01mreturn\u001B[39;00m total_loss \u001B[38;5;241m/\u001B[39m \u001B[38;5;28mlen\u001B[39m(dataloader)\n",
      "\u001B[0;31mKeyboardInterrupt\u001B[0m: "
     ]
    }
   ],
   "execution_count": 6
  },
  {
   "metadata": {},
   "cell_type": "markdown",
   "source": "Manual testing",
   "id": "936c4752765f5e5f"
  },
  {
   "metadata": {
    "ExecuteTime": {
     "end_time": "2024-11-08T14:00:35.615521Z",
     "start_time": "2024-11-08T14:00:35.593875Z"
    }
   },
   "cell_type": "code",
   "source": [
    "# torch.save(model.state_dict(), 'FirstReportData/sentiment_analysis_model.pth')\n",
    "\n",
    "model = Net(input_size=input_size, hidden_size=hidden_size, num_layers=num_layers, num_classes=num_classes).to(device)\n",
    "model.load_state_dict(torch.load('FirstReportData/sentiment_analysis_model.pth'))\n",
    "model.eval()\n",
    "message = \"i loved it here\"\n",
    "encoding = tokenizer(\n",
    "    message,\n",
    "    add_special_tokens=True,\n",
    "    max_length=128,\n",
    "    padding='max_length',\n",
    "    truncation=False,\n",
    "    return_tensors='pt'\n",
    ")\n",
    "\n",
    "output = model(encoding['input_ids'].float().to(device))\n",
    "_, predicted = torch.max(output, 1)\n",
    "print(\"Predicted:\", predicted.item())\n"
   ],
   "id": "3c8278193518e9dd",
   "outputs": [
    {
     "name": "stdout",
     "output_type": "stream",
     "text": [
      "Predicted: 0\n"
     ]
    },
    {
     "name": "stderr",
     "output_type": "stream",
     "text": [
      "/var/folders/gg/xybng_gj2rz3ltl94z9r_c59xzqsfn/T/ipykernel_59828/1505535154.py:4: FutureWarning: You are using `torch.load` with `weights_only=False` (the current default value), which uses the default pickle module implicitly. It is possible to construct malicious pickle data which will execute arbitrary code during unpickling (See https://github.com/pytorch/pytorch/blob/main/SECURITY.md#untrusted-models for more details). In a future release, the default value for `weights_only` will be flipped to `True`. This limits the functions that could be executed during unpickling. Arbitrary objects will no longer be allowed to be loaded via this mode unless they are explicitly allowlisted by the user via `torch.serialization.add_safe_globals`. We recommend you start setting `weights_only=True` for any use case where you don't have full control of the loaded file. Please open an issue on GitHub for any issues related to this experimental feature.\n",
      "  model.load_state_dict(torch.load('FirstReportData/sentiment_analysis_model.pth'))\n"
     ]
    }
   ],
   "execution_count": 79
  },
  {
   "metadata": {
    "ExecuteTime": {
     "end_time": "2024-11-14T13:22:43.843737Z",
     "start_time": "2024-11-14T13:22:43.809514Z"
    }
   },
   "cell_type": "code",
   "source": [
    "test_loss, test_accuracy = evaluate(model, test_dataloader, criterion)\n",
    "\n",
    "print(\n",
    "    f'Test Loss: {test_loss:.4f}, Test Accuracy: {test_accuracy:.4f}')"
   ],
   "id": "3d1a3715aae77dd9",
   "outputs": [
    {
     "name": "stdout",
     "output_type": "stream",
     "text": [
      "Test Loss: 0.0836, Test Accuracy: 0.2891\n"
     ]
    }
   ],
   "execution_count": 19
  },
  {
   "metadata": {},
   "cell_type": "code",
   "outputs": [],
   "execution_count": null,
   "source": "",
   "id": "6cb006d1098ae17c"
  }
 ],
 "metadata": {
  "kernelspec": {
   "display_name": "Python 3",
   "language": "python",
   "name": "python3"
  },
  "language_info": {
   "codemirror_mode": {
    "name": "ipython",
    "version": 2
   },
   "file_extension": ".py",
   "mimetype": "text/x-python",
   "name": "python",
   "nbconvert_exporter": "python",
   "pygments_lexer": "ipython2",
   "version": "2.7.6"
  }
 },
 "nbformat": 4,
 "nbformat_minor": 5
}
